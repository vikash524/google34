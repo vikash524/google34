{
  "nbformat": 4,
  "nbformat_minor": 0,
  "metadata": {
    "colab": {
      "provenance": []
    },
    "kernelspec": {
      "name": "python3",
      "display_name": "Python 3"
    },
    "language_info": {
      "name": "python"
    }
  },
  "cells": [
    {
      "cell_type": "code",
      "execution_count": 2,
      "metadata": {
        "colab": {
          "base_uri": "https://localhost:8080/"
        },
        "id": "Vp9KFcv9NA3_",
        "outputId": "bf0ea323-b90a-474e-deba-13e41c0ad513"
      },
      "outputs": [
        {
          "output_type": "stream",
          "name": "stdout",
          "text": [
            "Q1. Data types of variables:\n",
            "Data type of list_: <class 'list'>\n",
            "Data type of array_list: <class 'numpy.ndarray'>\n",
            "\n",
            "Q2. Data types of elements:\n",
            "Data type of elements in list_: [<class 'str'>, <class 'str'>, <class 'str'>, <class 'str'>, <class 'str'>]\n",
            "Data type of elements in array_list: <U1\n",
            "\n",
            "Q3. Data types of elements after dtype conversion:\n",
            "Data type of elements in list_: [<class 'str'>, <class 'str'>, <class 'str'>, <class 'str'>, <class 'str'>]\n",
            "Data type of elements in array_list: int64\n",
            "\n",
            "Q4. Characteristics of num_array:\n",
            "(i) Shape: (2, 3)\n",
            "(ii) Size: 6\n",
            "\n",
            "Q5. Numpy array of zeros:\n",
            "[[0. 0. 0.]\n",
            " [0. 0. 0.]\n",
            " [0. 0. 0.]]\n",
            "\n",
            "Q6. Identity matrix of shape (5,5):\n",
            "[[1. 0. 0. 0. 0.]\n",
            " [0. 1. 0. 0. 0.]\n",
            " [0. 0. 1. 0. 0.]\n",
            " [0. 0. 0. 1. 0.]\n",
            " [0. 0. 0. 0. 1.]]\n",
            "\n"
          ]
        }
      ],
      "source": [
        "\n",
        "import numpy as np\n",
        "\n",
        "# Given code\n",
        "list_ = ['1', '2', '3', '4', '5']\n",
        "array_list = np.array(object=list_)\n",
        "\n",
        "# Q1. Is there any difference in the data type of variables list_ and array_list? If there is then write a code to print the data types of both the variables.\n",
        "print(\"Q1. Data types of variables:\")\n",
        "print(\"Data type of list_:\", type(list_))\n",
        "print(\"Data type of array_list:\", type(array_list))\n",
        "print()\n",
        "\n",
        "# Q2. Write a code to print the data type of each and every element of both the variables list_ and array_list.\n",
        "print(\"Q2. Data types of elements:\")\n",
        "print(\"Data type of elements in list_:\", [type(item) for item in list_])\n",
        "print(\"Data type of elements in array_list:\", array_list.dtype)\n",
        "print()\n",
        "\n",
        "# Q3. Considering the following changes in the variable, array_list: array_list = np.array(object = list_, dtype = int) Will there be any difference in the data type of the elements present in both the variables, list_ and arra_list? If so then print the data types of each and every element present in both the variables, list_ and arra_list.\n",
        "array_list = np.array(object=list_, dtype=int)\n",
        "print(\"Q3. Data types of elements after dtype conversion:\")\n",
        "print(\"Data type of elements in list_:\", [type(item) for item in list_])\n",
        "print(\"Data type of elements in array_list:\", array_list.dtype)\n",
        "print()\n",
        "\n",
        "# Given code\n",
        "num_list = [[1, 2, 3], [4, 5, 6]]\n",
        "num_array = np.array(object=num_list)\n",
        "\n",
        "# Q4. Write a code to find the following characteristics of variable, num_array: (i) shape (ii) size\n",
        "print(\"Q4. Characteristics of num_array:\")\n",
        "print(\"(i) Shape:\", num_array.shape)\n",
        "print(\"(ii) Size:\", num_array.size)\n",
        "print()\n",
        "\n",
        "# Q5. Write a code to create numpy array of 3*3 matrix containing zeros only, using a numpy array creation function.\n",
        "zero_array = np.zeros((3, 3))\n",
        "print(\"Q5. Numpy array of zeros:\")\n",
        "print(zero_array)\n",
        "print()\n",
        "\n",
        "# Q6. Create an identity matrix of shape (5,5) using numpy functions?\n",
        "identity_matrix = np.eye(5)\n",
        "print(\"Q6. Identity matrix of shape (5,5):\")\n",
        "print(identity_matrix)\n",
        "print()\n"
      ]
    },
    {
      "cell_type": "code",
      "source": [],
      "metadata": {
        "id": "TWp-XbEnNDe8"
      },
      "execution_count": null,
      "outputs": []
    }
  ]
}